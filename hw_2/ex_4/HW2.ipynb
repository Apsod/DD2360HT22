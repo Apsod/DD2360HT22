{
  "nbformat": 4,
  "nbformat_minor": 0,
  "metadata": {
    "colab": {
      "provenance": [],
      "authorship_tag": "ABX9TyPNF7CAq8wLXaQ0oFkQJMMb",
      "include_colab_link": true
    },
    "kernelspec": {
      "name": "python3",
      "display_name": "Python 3"
    },
    "language_info": {
      "name": "python"
    },
    "accelerator": "GPU",
    "gpuClass": "standard"
  },
  "cells": [
    {
      "cell_type": "markdown",
      "metadata": {
        "id": "view-in-github",
        "colab_type": "text"
      },
      "source": [
        "<a href=\"https://colab.research.google.com/github/Apsod/DD2360HT22/blob/main/hw_2/ex_4/HW2.ipynb\" target=\"_parent\"><img src=\"https://colab.research.google.com/assets/colab-badge.svg\" alt=\"Open In Colab\"/></a>"
      ]
    },
    {
      "cell_type": "code",
      "source": [
        "!wget http://www.cs.virginia.edu/~skadron/lava/Rodinia/Packages/rodinia_3.1.tar.bz2\n",
        "!tar -xf rodinia_3.1.tar.bz2"
      ],
      "metadata": {
        "id": "1daECoKotY1v",
        "colab": {
          "base_uri": "https://localhost:8080/"
        },
        "outputId": "2a2b9387-a381-4465-ad29-1b325fdc1483"
      },
      "execution_count": null,
      "outputs": [
        {
          "output_type": "stream",
          "name": "stdout",
          "text": [
            "--2022-11-28 16:50:36--  http://www.cs.virginia.edu/~skadron/lava/Rodinia/Packages/rodinia_3.1.tar.bz2\n",
            "Resolving www.cs.virginia.edu (www.cs.virginia.edu)... 128.143.67.11\n",
            "Connecting to www.cs.virginia.edu (www.cs.virginia.edu)|128.143.67.11|:80... connected.\n",
            "HTTP request sent, awaiting response... 301 Moved Permanently\n",
            "Location: https://www.cs.virginia.edu/~skadron/lava/Rodinia/Packages/rodinia_3.1.tar.bz2 [following]\n",
            "--2022-11-28 16:50:37--  https://www.cs.virginia.edu/~skadron/lava/Rodinia/Packages/rodinia_3.1.tar.bz2\n",
            "Connecting to www.cs.virginia.edu (www.cs.virginia.edu)|128.143.67.11|:443... connected.\n",
            "HTTP request sent, awaiting response... 200 OK\n",
            "Length: 360636246 (344M) [application/x-tar]\n",
            "Saving to: ‘rodinia_3.1.tar.bz2’\n",
            "\n",
            "rodinia_3.1.tar.bz2 100%[===================>] 343.93M  12.8MB/s    in 28s     \n",
            "\n",
            "2022-11-28 16:51:07 (12.1 MB/s) - ‘rodinia_3.1.tar.bz2’ saved [360636246/360636246]\n",
            "\n"
          ]
        }
      ]
    },
    {
      "cell_type": "code",
      "source": [
        "TXT= \"\"\"\n",
        "CUDA_DIR = /usr/local/cuda\n",
        "CUDA_LIB_DIR = ${CUDA_DIR}/lib64\n",
        "SDK_DIR = ${CUDA_DIR}/samples/\n",
        "\"\"\".strip()\n",
        "\n",
        "with open('rodinia_3.1/common/make.config', 'wt') as handle:\n",
        "  handle.write(\n",
        "    TXT      \n",
        "  )"
      ],
      "metadata": {
        "id": "ARCqx6xHJZpK"
      },
      "execution_count": null,
      "outputs": []
    },
    {
      "cell_type": "code",
      "source": [
        "from pathlib import Path \n",
        "import subprocess\n",
        "import itertools\n",
        "\n",
        "ROOT = Path('.').absolute()\n",
        "\n",
        "implementations = ['cuda', 'openmp']\n",
        "problems = ['backprop', 'nw', 'nn']\n",
        "for impl, problem in itertools.product(implementations, problems):\n",
        "  path = ROOT / 'rodinia_3.1' / impl / problem\n",
        "  print(f'\\n\\n================\\n\\nmaking {impl} {problem}\\n{path}')\n",
        "  p = subprocess.run(f\"cd {path}; make\", shell=True, capture_output=True)\n",
        "  print(p.stdout.decode('utf-8'))\n",
        "  print(p.stderr.decode('utf-8'))"
      ],
      "metadata": {
        "colab": {
          "base_uri": "https://localhost:8080/"
        },
        "id": "7AdlZ17eL3hb",
        "outputId": "e6e9823a-a04b-4efc-955b-ba5351a56251"
      },
      "execution_count": null,
      "outputs": [
        {
          "output_type": "stream",
          "name": "stdout",
          "text": [
            "\n",
            "\n",
            "================\n",
            "\n",
            "making cuda backprop\n",
            "/content/rodinia_3.1/cuda/backprop\n",
            "make: 'backprop' is up to date.\n",
            "\n",
            "\n",
            "\n",
            "\n",
            "================\n",
            "\n",
            "making cuda nw\n",
            "/content/rodinia_3.1/cuda/nw\n",
            "/usr/local/cuda/bin/nvcc  needle.cu -o needle -I/usr/local/cuda/include -L/usr/local/cuda/lib64 \n",
            "\n",
            "\n",
            "\n",
            "\n",
            "================\n",
            "\n",
            "making cuda nn\n",
            "/content/rodinia_3.1/cuda/nn\n",
            "make: Nothing to be done for 'all'.\n",
            "\n",
            "\n",
            "\n",
            "\n",
            "================\n",
            "\n",
            "making openmp backprop\n",
            "/content/rodinia_3.1/openmp/backprop\n",
            "make: 'backprop' is up to date.\n",
            "\n",
            "\n",
            "\n",
            "\n",
            "================\n",
            "\n",
            "making openmp nw\n",
            "/content/rodinia_3.1/openmp/nw\n",
            "g++ -g -O3 -fopenmp needle.cpp -o needle \n",
            "icc -g -O3 -fopenmp -offload-option,mic,compiler,\"-no-opt-prefetch\" -DOMP_OFFLOAD needle.cpp -o needle_offload\n",
            "Makefile:13: recipe for target 'needle_offload' failed\n",
            "\n",
            "/bin/sh: 1: icc: not found\n",
            "make: *** [needle_offload] Error 127\n",
            "\n",
            "\n",
            "\n",
            "================\n",
            "\n",
            "making openmp nn\n",
            "/content/rodinia_3.1/openmp/nn\n",
            "make: Nothing to be done for 'all'.\n",
            "\n",
            "\n"
          ]
        }
      ]
    },
    {
      "cell_type": "code",
      "source": [
        "# runmap for varying the sizes: making the neural net in backprop larger,\n",
        "# and the sequences in Needleman-Wunsch longer. \n",
        "\n",
        "runmap = {\n",
        "    ('cuda', 'backprop'): './backprop 1048576',\n",
        "    ('openmp', 'backprop'): './backprop 1048576',\n",
        "    ('cuda', 'nw'): './needle 8192 10',\n",
        "    ('openmp', 'nw'): './needle 8192 10 2',\n",
        "    ('cuda', 'nn'): './run',\n",
        "    ('openmp', 'nn'): './run',\n",
        "}"
      ],
      "metadata": {
        "id": "kceuwwpmfRPT"
      },
      "execution_count": 59,
      "outputs": []
    },
    {
      "cell_type": "code",
      "source": [
        "\n",
        "from time import perf_counter\n",
        "\n",
        "for problem, impl in itertools.product(problems, implementations):\n",
        "  path = ROOT / 'rodinia_3.1' / impl / problem\n",
        "  print(f'running {impl} {problem} @ {path}')\n",
        "  start = perf_counter()\n",
        "  p = subprocess.run(f\"cd {path}; {runmap[(impl, problem)]}\", shell=True, capture_output=True)\n",
        "  stop = perf_counter()\n",
        "  print(f'elapsed time: {stop - start} seconds')\n",
        "  print(p.stdout)\n",
        "  print(p.stderr)\n",
        "\n"
      ],
      "metadata": {
        "colab": {
          "base_uri": "https://localhost:8080/"
        },
        "id": "yj1mXBviYuAs",
        "outputId": "8d09e8d3-ffb5-49ec-d709-ef15eb650daa"
      },
      "execution_count": 60,
      "outputs": [
        {
          "output_type": "stream",
          "name": "stdout",
          "text": [
            "running cuda backprop @ /content/rodinia_3.1/cuda/backprop\n",
            "elapsed time: 0.5666200650002793 seconds\n",
            "b'Random number generator seed: 7\\nInput layer size : 1048576\\nStarting training kernel\\nPerforming GPU computation\\nbpnn kernel error: invalid configuration argument\\n'\n",
            "b''\n",
            "running openmp backprop @ /content/rodinia_3.1/openmp/backprop\n",
            "elapsed time: 1.615599382000255 seconds\n",
            "b'Random number generator seed: 7\\nInput layer size : 1048576\\nStarting training kernel\\nPerforming CPU computation\\nTraining done\\n'\n",
            "b''\n",
            "running cuda nw @ /content/rodinia_3.1/cuda/nw\n",
            "elapsed time: 1.2073034639997786 seconds\n",
            "b'WG size of kernel = 16 \\nStart Needleman-Wunsch\\nProcessing top-left matrix\\nProcessing bottom-right matrix\\n'\n",
            "b''\n",
            "running openmp nw @ /content/rodinia_3.1/openmp/nw\n",
            "elapsed time: 0.6555068850002499 seconds\n",
            "b'Start Needleman-Wunsch\\nNum of threads: 2\\nProcessing top-left matrix\\nProcessing bottom-right matrix\\nTotal time: 0.322 seconds\\n'\n",
            "b''\n",
            "running cuda nn @ /content/rodinia_3.1/cuda/nn\n",
            "elapsed time: 0.1789042469999913 seconds\n",
            "b'1988 12 27  0 18 TONY       30.0  89.8  113   39 --> Distance=0.199997\\n1980 10 22 18  3 ISAAC      30.1  90.4  110  778 --> Distance=0.412312\\n1997 11 14 12 24 HELENE     30.5  89.8  134  529 --> Distance=0.538515\\n2003  8 27 12 10 TONY       29.9  89.4  160  286 --> Distance=0.608275\\n1974 12 22 18 24 JOYCE      30.6  89.9   80  593 --> Distance=0.608276\\n'\n",
            "b''\n",
            "running openmp nn @ /content/rodinia_3.1/openmp/nn\n",
            "elapsed time: 0.03558992600028432 seconds\n",
            "b'total time :  0.032260000706 s'\n",
            "b'The 5 nearest neighbors are:\\n1974 12 22 18 24 JOYCE      30.6  89.9   80  593 --> 0.608276\\n2003  8 27 12 10 TONY       29.9  89.4  160  286 --> 0.608275\\n1997 11 14 12 24 HELENE     30.5  89.8  134  529 --> 0.538515\\n1980 10 22 18  3 ISAAC      30.1  90.4  110  778 --> 0.412312\\n1988 12 27  0 18 TONY       30.0  89.8  113   39 --> 0.199997\\n'\n"
          ]
        }
      ]
    },
    {
      "cell_type": "code",
      "source": [
        "!ls /content/rodinia_3.1/cuda/backprop"
      ],
      "metadata": {
        "colab": {
          "base_uri": "https://localhost:8080/"
        },
        "id": "Y8DL5-5NL6Tp",
        "outputId": "23b2f094-64b9-4bc5-b56f-65465e823038"
      },
      "execution_count": null,
      "outputs": [
        {
          "output_type": "stream",
          "name": "stdout",
          "text": [
            "backprop\t\t backprop_cuda.o  facetrain.o  Makefile_nvidia\n",
            "backprop.c\t\t backprop.h\t  imagenet.c   run\n",
            "backprop_cuda.cu\t backprop.o\t  imagenet.o\n",
            "backprop_cuda_kernel.cu  facetrain.c\t  Makefile\n"
          ]
        }
      ]
    },
    {
      "cell_type": "code",
      "source": [],
      "metadata": {
        "colab": {
          "base_uri": "https://localhost:8080/"
        },
        "id": "UirJyDwAWYPO",
        "outputId": "26e47990-45ea-4cb9-8a7d-901f13c504ca"
      },
      "execution_count": null,
      "outputs": [
        {
          "output_type": "stream",
          "name": "stdout",
          "text": [
            "make: *** No targets specified and no makefile found.  Stop.\n"
          ]
        }
      ]
    },
    {
      "cell_type": "code",
      "source": [],
      "metadata": {
        "id": "wjcFseJSW7M5"
      },
      "execution_count": null,
      "outputs": []
    }
  ]
}